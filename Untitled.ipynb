{
 "cells": [
  {
   "cell_type": "code",
   "execution_count": 1,
   "metadata": {},
   "outputs": [],
   "source": [
    "import requests\n",
    "import re\n",
    "import os"
   ]
  },
  {
   "cell_type": "code",
   "execution_count": 2,
   "metadata": {},
   "outputs": [],
   "source": [
    "def main():\n",
    "    # 创建文件夹\n",
    "    root_dir = \"D:/program/humanPos2D\"\n",
    "    # 规定网站图片张数，与网站更新到的索引有关,目前最大约37300\n",
    "    image_arrange = [30000, 30010]\n",
    "    \n",
    "    image_dir = root_dir + \"/image\"\n",
    "    tags_dir = root_dir + \"/tags\"\n",
    "    \n",
    "    if not os.path.exists(image_dir):\n",
    "        os.makedirs(image_dir)\n",
    "    if not os.path.exists(tags_dir):\n",
    "        os.makedirs(tags_dir)\n",
    "    \n",
    "    for i in range(image_arrange[0], image_arrange[1]):\n",
    "        try:\n",
    "            get_target_message(image_dir, tags_dir, str(i))\n",
    "            print(str(i) + \" succeed!\")\n",
    "        except Exception as e:\n",
    "            print(str(i) + \" error: \", e)"
   ]
  },
  {
   "cell_type": "code",
   "execution_count": 3,
   "metadata": {},
   "outputs": [],
   "source": [
    "'''\n",
    "获取该网站中特定imgId的图片和tags\n",
    "@Params String imgId \n",
    "'''\n",
    "def get_target_message(image_dir, tags_dir, img_id):\n",
    "    detail_url = \"http://animepicsx.net/\" + img_id\n",
    "    detail_html = requests.get(detail_url)\n",
    "    detail_html_text = detail_html.text\n",
    "    # print(detail_html_text)\n",
    "\n",
    "    re_pattern = re.compile('<img\\nsrc=\"(https://pics\\.animepicsx\\.net/images/.*?)\" class=\"z-depth-4 responsive-img\">')\n",
    "    detail_img = re_pattern.findall(detail_html_text)\n",
    "    #print(detail_img)\n",
    "    if len(detail_img) != 1:\n",
    "        raise Exception(\"图片获取失败\")\n",
    "    else:\n",
    "        print(\"imgurl: \" + detail_img[0])\n",
    "        img_url = detail_img[0]\n",
    "    \n",
    "\n",
    "    re_pattern = re.compile('<a\\nhref=\"/site/tag\\?tag=(.*?)\">#.*?</a>')\n",
    "    detail_tags = re_pattern.findall(detail_html_text)\n",
    "    print(\"tags: \", detail_tags)\n",
    "    \n",
    "    save_img_and_tags(image_dir, tags_dir, img_id, img_url, detail_tags)"
   ]
  },
  {
   "cell_type": "code",
   "execution_count": 4,
   "metadata": {},
   "outputs": [],
   "source": [
    "def save_img_and_tags(img_dir, tags_dir, img_id, img_url, img_tags):\n",
    "    img_data = requests.get(img_url)\n",
    "    img_format = \".jpge\"\n",
    "    \n",
    "    if img_url[-4: -1] == \".pn\":\n",
    "        img_format = \".png\"\n",
    "        \n",
    "\n",
    "    img_file = open(img_dir + \"/\" + img_id + img_format, 'wb')\n",
    "    img_file.write(img_data.content)\n",
    "    img_file.close()\n",
    "\n",
    "    tags_file = open(tags_dir + \"/\" + img_id + \".txt\", 'w')\n",
    "    for tag in img_tags:\n",
    "        tags_file.write(tag + \"\\n\")\n",
    "\n",
    "    tags_file.close()"
   ]
  },
  {
   "cell_type": "code",
   "execution_count": 5,
   "metadata": {},
   "outputs": [
    {
     "name": "stdout",
     "output_type": "stream",
     "text": [
      "imgurl: https://pics.animepicsx.net/images/rTF/ns6/k07tCFL_kb.jpeg\n",
      "tags:  ['grey-hair', 'long-hair', 'ribbon', 'sad', 'blush', 'bed', 'pillow', 'red-eyes', 'neko-mimi', 'book', 'teddy']\n",
      "30000 succeed!\n",
      "imgurl: https://pics.animepicsx.net/images/28l/5SV/vdZj9x1Bir.png\n",
      "tags:  ['long-hair', 'purple-hair', 'blush', 'skirt', 'smile', 'jacket', 'gloves', 'orange-eyes', 'dark-skin', 'side-tail', 'snow', 'earmuffs']\n",
      "30001 succeed!\n",
      "imgurl: https://pics.animepicsx.net/images/Jc8/mzO/tA9F-0afWB.png\n",
      "tags:  ['long-hair', 'blue-eyes', 'blush', 'smile', 'ahoge', 'sakura', 'red-eyes']\n",
      "30002 succeed!\n",
      "imgurl: https://pics.animepicsx.net/images/1od/sVS/Mc4mPUzWWg.png\n",
      "tags:  ['long-hair', 'ribbon', 'smile', 'dress', 'pink-eyes', 'pink-hair', 'boots', 'usa-mimi']\n",
      "30003 succeed!\n",
      "imgurl: https://pics.animepicsx.net/images/0OE/yIy/JT2qqzCPAN.png\n",
      "tags:  ['flower', 'long-hair', 'blue-eyes', 'short-hair', 'hair-band', 'jewelry', 'jacket', 'bikini', 'beverage', 'blue-hair', 'tree', 'garter', 'nail-polish', 'sleep', 'dark-skin', 'book', 'mizugi']\n",
      "30004 succeed!\n",
      "imgurl: https://pics.animepicsx.net/images/rQX/-s9/An1pdGqaHp.png\n",
      "tags:  ['long-hair', 'short-hair', 'smile', 'jewelry', 'veil', 'braids', 'yellow-eyes', 'nail-polish', 'orange-hair', 'side-tail', 'green-hair', 'hug']\n",
      "30005 succeed!\n",
      "imgurl: https://pics.animepicsx.net/images/9Dx/98W/SyjcI2WDSN.jpeg\n",
      "tags:  ['long-hair', 'ribbon', 'blue-eyes', 'purple-hair', 'smile', 'ponytail', 'underwater', 'bubbles', 'mizugi']\n",
      "30006 succeed!\n",
      "imgurl: https://pics.animepicsx.net/images/OKI/x6G/pcjiFSzARd.jpeg\n",
      "tags:  ['purple-hair', 'short-hair', 'jewelry', 'thigh-highs', 'gloves', 'beverage', 'happy', 'wings', 'red-eyes', 'tail', 'horns']\n",
      "30007 succeed!\n",
      "imgurl: https://pics.animepicsx.net/images/fqs/niA/LzT6bmuYCh.jpeg\n",
      "tags:  ['short-hair', 'jewelry', 'weapon', 'bodysuit', 'happy', 'wings', 'nail-polish', 'wink', 'red-hair', 'red-eyes', 'heart', 'tail', 'horns']\n",
      "30008 succeed!\n",
      "imgurl: https://pics.animepicsx.net/images/hYm/LSI/xAN6J5jXLI.jpeg\n",
      "tags:  ['long-hair', 'blue-eyes', 'white-hair', 'thigh-highs', 'gloves', 'beauty-mark', 'shorts', 'android', 'mirror']\n",
      "30009 succeed!\n"
     ]
    }
   ],
   "source": [
    "main()"
   ]
  },
  {
   "cell_type": "code",
   "execution_count": null,
   "metadata": {},
   "outputs": [],
   "source": []
  }
 ],
 "metadata": {
  "kernelspec": {
   "display_name": "Python 3",
   "language": "python",
   "name": "python3"
  },
  "language_info": {
   "codemirror_mode": {
    "name": "ipython",
    "version": 3
   },
   "file_extension": ".py",
   "mimetype": "text/x-python",
   "name": "python",
   "nbconvert_exporter": "python",
   "pygments_lexer": "ipython3",
   "version": "3.7.3"
  }
 },
 "nbformat": 4,
 "nbformat_minor": 4
}
